{
  "cells": [
    {
      "cell_type": "code",
      "execution_count": null,
      "id": "8e7e4b85-1468-4f13-86df-a6d2e5c7a597",
      "metadata": {
        "id": "8e7e4b85-1468-4f13-86df-a6d2e5c7a597"
      },
      "outputs": [],
      "source": [
        "import pandas as pd\n",
        "import numpy as np\n",
        "import matplotlib.pyplot as plt\n",
        "import seaborn as sns"
      ]
    },
    {
      "cell_type": "code",
      "execution_count": null,
      "id": "7b375e7a-ccdd-4c39-90cd-49a3cc3a679d",
      "metadata": {
        "id": "7b375e7a-ccdd-4c39-90cd-49a3cc3a679d"
      },
      "outputs": [],
      "source": [
        "from sklearn.model_selection import train_test_split\n",
        "from sklearn.linear_model import LinearRegression\n",
        "from sklearn.metrics import mean_squared_error, r2_score\n"
      ]
    },
    {
      "cell_type": "code",
      "execution_count": null,
      "id": "d59de234-2b70-4ab7-9add-c3082fa71be4",
      "metadata": {
        "id": "d59de234-2b70-4ab7-9add-c3082fa71be4"
      },
      "outputs": [],
      "source": [
        "df = pd.read_csv('C:/Users/ML Lab/Desktop/122B1F025/Employee_Salary_Dataset.csv')"
      ]
    },
    {
      "cell_type": "code",
      "execution_count": null,
      "id": "86220745-b391-440d-89de-8c4e976f2bd2",
      "metadata": {
        "id": "86220745-b391-440d-89de-8c4e976f2bd2",
        "outputId": "260b836e-6c96-4d58-f1a2-dc5985d4fdbe"
      },
      "outputs": [
        {
          "data": {
            "text/html": [
              "<div>\n",
              "<style scoped>\n",
              "    .dataframe tbody tr th:only-of-type {\n",
              "        vertical-align: middle;\n",
              "    }\n",
              "\n",
              "    .dataframe tbody tr th {\n",
              "        vertical-align: top;\n",
              "    }\n",
              "\n",
              "    .dataframe thead th {\n",
              "        text-align: right;\n",
              "    }\n",
              "</style>\n",
              "<table border=\"1\" class=\"dataframe\">\n",
              "  <thead>\n",
              "    <tr style=\"text-align: right;\">\n",
              "      <th></th>\n",
              "      <th>ID</th>\n",
              "      <th>Experience_Years</th>\n",
              "      <th>Age</th>\n",
              "      <th>Gender</th>\n",
              "      <th>Salary</th>\n",
              "    </tr>\n",
              "  </thead>\n",
              "  <tbody>\n",
              "    <tr>\n",
              "      <th>0</th>\n",
              "      <td>1</td>\n",
              "      <td>5</td>\n",
              "      <td>28</td>\n",
              "      <td>Female</td>\n",
              "      <td>250000</td>\n",
              "    </tr>\n",
              "    <tr>\n",
              "      <th>1</th>\n",
              "      <td>2</td>\n",
              "      <td>1</td>\n",
              "      <td>21</td>\n",
              "      <td>Male</td>\n",
              "      <td>50000</td>\n",
              "    </tr>\n",
              "    <tr>\n",
              "      <th>2</th>\n",
              "      <td>3</td>\n",
              "      <td>3</td>\n",
              "      <td>23</td>\n",
              "      <td>Female</td>\n",
              "      <td>170000</td>\n",
              "    </tr>\n",
              "    <tr>\n",
              "      <th>3</th>\n",
              "      <td>4</td>\n",
              "      <td>2</td>\n",
              "      <td>22</td>\n",
              "      <td>Male</td>\n",
              "      <td>25000</td>\n",
              "    </tr>\n",
              "    <tr>\n",
              "      <th>4</th>\n",
              "      <td>5</td>\n",
              "      <td>1</td>\n",
              "      <td>17</td>\n",
              "      <td>Male</td>\n",
              "      <td>10000</td>\n",
              "    </tr>\n",
              "  </tbody>\n",
              "</table>\n",
              "</div>"
            ],
            "text/plain": [
              "   ID  Experience_Years  Age  Gender  Salary\n",
              "0   1                 5   28  Female  250000\n",
              "1   2                 1   21    Male   50000\n",
              "2   3                 3   23  Female  170000\n",
              "3   4                 2   22    Male   25000\n",
              "4   5                 1   17    Male   10000"
            ]
          },
          "metadata": {},
          "output_type": "display_data"
        }
      ],
      "source": [
        "display(df.head())"
      ]
    },
    {
      "cell_type": "code",
      "execution_count": null,
      "id": "6fe2eecb-a7a9-4ff4-9a62-dfcbaeb3a313",
      "metadata": {
        "id": "6fe2eecb-a7a9-4ff4-9a62-dfcbaeb3a313",
        "outputId": "497b9de9-210a-4b3e-dd7d-f74e6c9edca0"
      },
      "outputs": [
        {
          "name": "stdout",
          "output_type": "stream",
          "text": [
            "<class 'pandas.core.frame.DataFrame'>\n",
            "RangeIndex: 35 entries, 0 to 34\n",
            "Data columns (total 5 columns):\n",
            " #   Column            Non-Null Count  Dtype \n",
            "---  ------            --------------  ----- \n",
            " 0   ID                35 non-null     int64 \n",
            " 1   Experience_Years  35 non-null     int64 \n",
            " 2   Age               35 non-null     int64 \n",
            " 3   Gender            35 non-null     object\n",
            " 4   Salary            35 non-null     int64 \n",
            "dtypes: int64(4), object(1)\n",
            "memory usage: 1.5+ KB\n"
          ]
        }
      ],
      "source": [
        "df.info()\n"
      ]
    },
    {
      "cell_type": "code",
      "execution_count": null,
      "id": "f8701819-3f0c-4def-aed5-95f5da01e71a",
      "metadata": {
        "id": "f8701819-3f0c-4def-aed5-95f5da01e71a",
        "outputId": "838490ac-2590-4857-924a-1eaaee98ebd6"
      },
      "outputs": [
        {
          "name": "stdout",
          "output_type": "stream",
          "text": [
            "\n",
            "Missing values:\n",
            "ID                  0\n",
            "Experience_Years    0\n",
            "Age                 0\n",
            "Gender              0\n",
            "Salary              0\n",
            "dtype: int64\n"
          ]
        }
      ],
      "source": [
        "print(\"\\nMissing values:\")\n",
        "print(df.isnull().sum())"
      ]
    },
    {
      "cell_type": "code",
      "execution_count": null,
      "id": "8647582e-bb35-4715-807f-eed32e95b894",
      "metadata": {
        "id": "8647582e-bb35-4715-807f-eed32e95b894",
        "outputId": "210119ee-47da-49a0-d74b-76aaf90d5bc1"
      },
      "outputs": [
        {
          "name": "stdout",
          "output_type": "stream",
          "text": [
            "\n",
            "Summary Statistics:\n"
          ]
        },
        {
          "data": {
            "text/html": [
              "<div>\n",
              "<style scoped>\n",
              "    .dataframe tbody tr th:only-of-type {\n",
              "        vertical-align: middle;\n",
              "    }\n",
              "\n",
              "    .dataframe tbody tr th {\n",
              "        vertical-align: top;\n",
              "    }\n",
              "\n",
              "    .dataframe thead th {\n",
              "        text-align: right;\n",
              "    }\n",
              "</style>\n",
              "<table border=\"1\" class=\"dataframe\">\n",
              "  <thead>\n",
              "    <tr style=\"text-align: right;\">\n",
              "      <th></th>\n",
              "      <th>ID</th>\n",
              "      <th>Experience_Years</th>\n",
              "      <th>Age</th>\n",
              "      <th>Salary</th>\n",
              "    </tr>\n",
              "  </thead>\n",
              "  <tbody>\n",
              "    <tr>\n",
              "      <th>count</th>\n",
              "      <td>35.000000</td>\n",
              "      <td>35.00000</td>\n",
              "      <td>35.000000</td>\n",
              "      <td>3.500000e+01</td>\n",
              "    </tr>\n",
              "    <tr>\n",
              "      <th>mean</th>\n",
              "      <td>18.000000</td>\n",
              "      <td>9.20000</td>\n",
              "      <td>35.485714</td>\n",
              "      <td>2.059147e+06</td>\n",
              "    </tr>\n",
              "    <tr>\n",
              "      <th>std</th>\n",
              "      <td>10.246951</td>\n",
              "      <td>7.55295</td>\n",
              "      <td>14.643552</td>\n",
              "      <td>3.170124e+06</td>\n",
              "    </tr>\n",
              "    <tr>\n",
              "      <th>min</th>\n",
              "      <td>1.000000</td>\n",
              "      <td>1.00000</td>\n",
              "      <td>17.000000</td>\n",
              "      <td>3.000000e+03</td>\n",
              "    </tr>\n",
              "    <tr>\n",
              "      <th>25%</th>\n",
              "      <td>9.500000</td>\n",
              "      <td>2.50000</td>\n",
              "      <td>22.500000</td>\n",
              "      <td>2.250000e+04</td>\n",
              "    </tr>\n",
              "    <tr>\n",
              "      <th>50%</th>\n",
              "      <td>18.000000</td>\n",
              "      <td>6.00000</td>\n",
              "      <td>29.000000</td>\n",
              "      <td>2.500000e+05</td>\n",
              "    </tr>\n",
              "    <tr>\n",
              "      <th>75%</th>\n",
              "      <td>26.500000</td>\n",
              "      <td>15.00000</td>\n",
              "      <td>53.500000</td>\n",
              "      <td>3.270000e+06</td>\n",
              "    </tr>\n",
              "    <tr>\n",
              "      <th>max</th>\n",
              "      <td>35.000000</td>\n",
              "      <td>27.00000</td>\n",
              "      <td>62.000000</td>\n",
              "      <td>1.000000e+07</td>\n",
              "    </tr>\n",
              "  </tbody>\n",
              "</table>\n",
              "</div>"
            ],
            "text/plain": [
              "              ID  Experience_Years        Age        Salary\n",
              "count  35.000000          35.00000  35.000000  3.500000e+01\n",
              "mean   18.000000           9.20000  35.485714  2.059147e+06\n",
              "std    10.246951           7.55295  14.643552  3.170124e+06\n",
              "min     1.000000           1.00000  17.000000  3.000000e+03\n",
              "25%     9.500000           2.50000  22.500000  2.250000e+04\n",
              "50%    18.000000           6.00000  29.000000  2.500000e+05\n",
              "75%    26.500000          15.00000  53.500000  3.270000e+06\n",
              "max    35.000000          27.00000  62.000000  1.000000e+07"
            ]
          },
          "metadata": {},
          "output_type": "display_data"
        }
      ],
      "source": [
        "print(\"\\nSummary Statistics:\")\n",
        "display(df.describe())"
      ]
    },
    {
      "cell_type": "code",
      "execution_count": null,
      "id": "b4eae6de-1913-4cdc-9785-4305c96012ad",
      "metadata": {
        "id": "b4eae6de-1913-4cdc-9785-4305c96012ad"
      },
      "outputs": [],
      "source": [
        "df.fillna({'Salary': df['Salary'].median()}, inplace=True)\n"
      ]
    },
    {
      "cell_type": "code",
      "execution_count": null,
      "id": "17fe5977-3ee9-4495-888f-a795d44c7fd9",
      "metadata": {
        "id": "17fe5977-3ee9-4495-888f-a795d44c7fd9"
      },
      "outputs": [],
      "source": [
        "X = df[['Experience_Years']]\n",
        "y = df['Salary']"
      ]
    },
    {
      "cell_type": "code",
      "execution_count": null,
      "id": "51389d3d-611d-42c8-8692-d1028d982bb5",
      "metadata": {
        "id": "51389d3d-611d-42c8-8692-d1028d982bb5"
      },
      "outputs": [],
      "source": [
        "X_train, X_test, y_train, y_test = train_test_split(X, y, test_size=0.2, random_state=42)\n"
      ]
    },
    {
      "cell_type": "code",
      "execution_count": null,
      "id": "805783be-66ff-4a92-8728-76eb1905b3ef",
      "metadata": {
        "id": "805783be-66ff-4a92-8728-76eb1905b3ef"
      },
      "outputs": [],
      "source": [
        "model = LinearRegression()\n",
        "model.fit(X_train, y_train)\n",
        "y_pred = model.predict(X_test)"
      ]
    },
    {
      "cell_type": "code",
      "execution_count": null,
      "id": "03fd6033-cb2a-4109-92bd-9871441e34c7",
      "metadata": {
        "id": "03fd6033-cb2a-4109-92bd-9871441e34c7"
      },
      "outputs": [],
      "source": [
        "mse = mean_squared_error(y_test, y_pred)\n",
        "r2 = r2_score(y_test, y_pred)"
      ]
    },
    {
      "cell_type": "code",
      "execution_count": null,
      "id": "d894fafe-d673-4a30-8f7d-04ed7f3ef7e2",
      "metadata": {
        "id": "d894fafe-d673-4a30-8f7d-04ed7f3ef7e2",
        "outputId": "336887d6-9568-4655-ffb0-c4a2911e2e35"
      },
      "outputs": [
        {
          "name": "stdout",
          "output_type": "stream",
          "text": [
            "Mean Squared Error: 1839360575043.1194\n",
            "R-squared: -128.28939013339806\n"
          ]
        }
      ],
      "source": [
        "print(f\"Mean Squared Error: {mse}\")\n",
        "print(f\"R-squared: {r2}\")"
      ]
    },
    {
      "cell_type": "code",
      "execution_count": null,
      "id": "8bb58864-72a0-4ea4-93ee-8591e068bdc0",
      "metadata": {
        "id": "8bb58864-72a0-4ea4-93ee-8591e068bdc0",
        "outputId": "8e7fb695-33cf-42ec-8eef-0591c7d932b0"
      },
      "outputs": [
        {
          "data": {
            "image/png": "[encoded data removed]",
            "text/plain": [
              "<Figure size 800x600 with 1 Axes>"
            ]
          },
          "metadata": {},
          "output_type": "display_data"
        }
      ],
      "source": [
        "plt.figure(figsize=(8, 6))\n",
        "plt.scatter(X_test, y_test, color='blue', label='Actual')\n",
        "plt.plot(X_test, y_pred, color='red', linewidth=2, label='Predicted')\n",
        "plt.xlabel(\"Experience_Years\")\n",
        "plt.ylabel(\"Salary\")\n",
        "plt.title(\"Linear Regression: Experience vs Salary\")\n",
        "plt.legend()\n",
        "plt.show()\n"
      ]
    },
    {
      "cell_type": "code",
      "execution_count": null,
      "id": "6eada7e1-bc2f-48f2-b8c7-4cfbed729610",
      "metadata": {
        "id": "6eada7e1-bc2f-48f2-b8c7-4cfbed729610",
        "outputId": "e5242061-7771-4fd7-cd62-9f956377b558"
      },
      "outputs": [
        {
          "name": "stdout",
          "output_type": "stream",
          "text": [
            "\n",
            "Enter details to predict Salary:\n"
          ]
        },
        {
          "name": "stdin",
          "output_type": "stream",
          "text": [
            "Enter Experience (Years):  2\n"
          ]
        }
      ],
      "source": [
        "print(\"\\nEnter details to predict Salary:\")\n",
        "exp = float(input(\"Enter Experience (Years): \"))\n"
      ]
    },
    {
      "cell_type": "code",
      "execution_count": null,
      "id": "a6d297fb-7726-4fea-ac9c-c04d12cf8396",
      "metadata": {
        "id": "a6d297fb-7726-4fea-ac9c-c04d12cf8396",
        "outputId": "a1cccbd2-2721-409f-93ec-91870be65124"
      },
      "outputs": [
        {
          "name": "stdout",
          "output_type": "stream",
          "text": [
            "Predicted Salary: 211688.32761362637\n"
          ]
        },
        {
          "name": "stderr",
          "output_type": "stream",
          "text": [
            "C:\\Users\\ML Lab\\anaconda3\\Lib\\site-packages\\sklearn\\base.py:493: UserWarning: X does not have valid feature names, but LinearRegression was fitted with feature names\n",
            "  warnings.warn(\n"
          ]
        }
      ],
      "source": [
        "new_data = np.array([[exp]])\n",
        "predicted_salary = model.predict(new_data)\n",
        "print(f\"Predicted Salary: {predicted_salary[0]}\")"
      ]
    },
    {
      "cell_type": "code",
      "execution_count": null,
      "id": "e5e37902-814a-4462-8daa-84eef269ec9a",
      "metadata": {
        "id": "e5e37902-814a-4462-8daa-84eef269ec9a"
      },
      "outputs": [],
      "source": []
    }
  ],
  "metadata": {
    "kernelspec": {
      "display_name": "Python 3 (ipykernel)",
      "language": "python",
      "name": "python3"
    },
    "language_info": {
      "codemirror_mode": {
        "name": "ipython",
        "version": 3
      },
      "file_extension": ".py",
      "mimetype": "text/x-python",
      "name": "python",
      "nbconvert_exporter": "python",
      "pygments_lexer": "ipython3",
      "version": "3.12.4"
    },
    "colab": {
      "provenance": []
    }
  },
  "nbformat": 4,
  "nbformat_minor": 5
}